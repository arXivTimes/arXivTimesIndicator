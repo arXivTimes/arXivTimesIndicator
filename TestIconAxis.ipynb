{
 "cells": [
  {
   "cell_type": "code",
   "execution_count": 45,
   "metadata": {
    "collapsed": true
   },
   "outputs": [],
   "source": [
    "%matplotlib inline"
   ]
  },
  {
   "cell_type": "code",
   "execution_count": 46,
   "metadata": {
    "collapsed": true
   },
   "outputs": [],
   "source": [
    "import os\n",
    "import numpy as np\n",
    "import matplotlib as mpl\n",
    "import matplotlib.pyplot as plt\n",
    "from matplotlib.image import BboxImage, imread\n",
    "from matplotlib.transforms import Bbox\n",
    "from PIL import Image\n",
    "import seaborn as sns"
   ]
  },
  {
   "cell_type": "code",
   "execution_count": 47,
   "metadata": {},
   "outputs": [
    {
     "name": "stdout",
     "output_type": "stream",
     "text": [
      "[<PIL.PngImagePlugin.PngImageFile image mode=RGB size=64x64 at 0x10C990A58>, <PIL.PngImagePlugin.PngImageFile image mode=RGBA size=64x64 at 0x10C1406D8>, <PIL.PngImagePlugin.PngImageFile image mode=RGB size=64x64 at 0x10C140780>]\n"
     ]
    }
   ],
   "source": [
    "mpl.rcParams[\"figure.dpi\"] = 70\n",
    "mpl.rcParams[\"savefig.dpi\"] = 70\n",
    "IMG_ROOT = \"./images\"\n",
    "\n",
    "# read images\n",
    "image_paths = os.listdir(\"./images\")\n",
    "image_paths = [os.path.join(IMG_ROOT, p) for p in image_paths]\n",
    "images = [Image.open(p) for p in image_paths]\n",
    "print(images)"
   ]
  },
  {
   "cell_type": "code",
   "execution_count": 48,
   "metadata": {
    "scrolled": true
   },
   "outputs": [
    {
     "data": {
      "image/png": "[encoded data removed]",
      "text/plain": [
       "<matplotlib.figure.Figure at 0x10c4efa20>"
      ]
     },
     "metadata": {},
     "output_type": "display_data"
    }
   ],
   "source": [
    "# show graph\n",
    "\n",
    "y = np.random.randint(10, size=len(images))\n",
    "x = np.array(range(len(images)))\n",
    "ax = sns.barplot(x=x, y=y, ci=None)\n",
    "\n",
    "# erase ticks\n",
    "ax.get_xaxis().set_ticklabels([], fontsize=45)  # expand label size by fontsize parameter\n",
    "\n",
    "TICK_POS = -0.25  # vertical position of icon in graph y-grid\n",
    "SIZE_IN_TICK = 1  # icon in graph y-grid\n",
    "\n",
    "def get_icon_position_from_order(ax, order, icon_size, vertical_position, offset=-0.35):\n",
    "    scale = ax.transData.transform((1, 1)) - ax.transData.transform((0, 0))\n",
    "    x_scale = scale[1] / scale[0]\n",
    "    \n",
    "    pos = order + offset\n",
    "    left = pos - (icon_size * x_scale / 2)\n",
    "    down = vertical_position - icon_size\n",
    "    right = pos + (icon_size * x_scale / 2)\n",
    "    top = vertical_position\n",
    "    \n",
    "    leftDown = ax.transData.transform((left, down))\n",
    "    rightUpper = ax.transData.transform((right, top))\n",
    "    return leftDown, rightUpper\n",
    "    \n",
    "\n",
    "for i, _x in enumerate(x):\n",
    "    leftDown, rightUpper = get_icon_position_from_order(ax, i, SIZE_IN_TICK, TICK_POS)\n",
    "    bbox_image = BboxImage(Bbox([leftDown, rightUpper]),\n",
    "                           norm = None,\n",
    "                           origin=None,\n",
    "                           clip_on=False\n",
    "                          )\n",
    "    bbox_image.set_data(images[i])\n",
    "    ax.add_artist(bbox_image)\n"
   ]
  },
  {
   "cell_type": "code",
   "execution_count": 49,
   "metadata": {},
   "outputs": [
    {
     "data": {
      "image/png": "[encoded data removed]",
      "text/plain": [
       "<matplotlib.figure.Figure at 0x10baafd30>"
      ]
     },
     "metadata": {},
     "output_type": "display_data"
    }
   ],
   "source": [
    "fig = ax.get_figure()\n",
    "fig.savefig(\"icon_plot.PNG\", bbox_inches=\"tight\")\n",
    "with sns.axes_style(\"white\"):\n",
    "    plt.imshow(Image.open(\"icon_plot.PNG\"))"
   ]
  },
  {
   "cell_type": "code",
   "execution_count": null,
   "metadata": {
    "collapsed": true
   },
   "outputs": [],
   "source": []
  }
 ],
 "metadata": {
  "kernelspec": {
   "display_name": "Python 3",
   "language": "python",
   "name": "python3"
  },
  "language_info": {
   "codemirror_mode": {
    "name": "ipython",
    "version": 3
   },
   "file_extension": ".py",
   "mimetype": "text/x-python",
   "name": "python",
   "nbconvert_exporter": "python",
   "pygments_lexer": "ipython3",
   "version": "3.6.1"
  }
 },
 "nbformat": 4,
 "nbformat_minor": 2
}
