{
 "cells": [
  {
   "cell_type": "code",
   "execution_count": 14,
   "metadata": {
    "collapsed": true
   },
   "outputs": [],
   "source": [
    "%matplotlib inline"
   ]
  },
  {
   "cell_type": "code",
   "execution_count": 15,
   "metadata": {
    "collapsed": true
   },
   "outputs": [],
   "source": [
    "import os\n",
    "import numpy as np\n",
    "import matplotlib as mpl\n",
    "import matplotlib.pyplot as plt\n",
    "from matplotlib.image import BboxImage, imread\n",
    "from matplotlib.transforms import Bbox\n",
    "from PIL import Image\n",
    "import seaborn as sns"
   ]
  },
  {
   "cell_type": "code",
   "execution_count": 29,
   "metadata": {},
   "outputs": [
    {
     "name": "stdout",
     "output_type": "stream",
     "text": [
      "[<PIL.PngImagePlugin.PngImageFile image mode=RGB size=64x64 at 0x10E6B13C8>, <PIL.PngImagePlugin.PngImageFile image mode=RGBA size=64x64 at 0x10E6B15C0>, <PIL.PngImagePlugin.PngImageFile image mode=RGB size=64x64 at 0x10E6B14E0>]\n"
     ]
    }
   ],
   "source": [
    "# read images\n",
    "#mpl.rcParams[\"savefig.dpi\"] = mpl.rcParams[\"figure.dpi\"]\n",
    "IMG_ROOT = \"./images\"\n",
    "\n",
    "image_paths = os.listdir(\"./images\")\n",
    "image_paths = [os.path.join(IMG_ROOT, p) for p in image_paths]\n",
    "images = [Image.open(p) for p in image_paths]\n",
    "print(images)"
   ]
  },
  {
   "cell_type": "code",
   "execution_count": 56,
   "metadata": {},
   "outputs": [
    {
     "data": {
      "image/png": "[encoded data removed]",
      "text/plain": [
       "<matplotlib.figure.Figure at 0x10d585710>"
      ]
     },
     "metadata": {},
     "output_type": "display_data"
    }
   ],
   "source": [
    "# show graph\n",
    "\n",
    "y = np.random.randint(10, size=len(images))\n",
    "x = np.array(range(len(images)))\n",
    "ax = sns.barplot(x=x, y=y, ci=None)\n",
    "\n",
    "# erase ticks\n",
    "ax.get_xaxis().set_ticklabels([], fontsize=45)  # expand label size by fontsize parameter\n",
    "TICK_POS = -0.25\n",
    "SIZE_IN_TICK = 1\n",
    "\n",
    "scale = ax.transData.transform((1, 1)) - ax.transData.transform((0, 0))\n",
    "x_scale = scale[0] / scale[1]\n",
    "\n",
    "for i, _x in enumerate(x):\n",
    "    label_x = _x  # adjustment is not needed in saved file\n",
    "    left = label_x - (SIZE_IN_TICK / x_scale / 2)\n",
    "    down = TICK_POS - SIZE_IN_TICK\n",
    "    right = label_x + (SIZE_IN_TICK / x_scale / 2)\n",
    "    top = TICK_POS\n",
    "    leftDown = ax.transData.transform((left, down))\n",
    "    rightUpper = ax.transData.transform((right, top))\n",
    "    bbox_image = BboxImage(Bbox([leftDown, rightUpper]),\n",
    "                           norm = None,\n",
    "                           origin=None,\n",
    "                           clip_on=False\n",
    "                          )\n",
    "    bbox_image.set_data(images[i])\n",
    "    ax.add_artist(bbox_image)\n"
   ]
  },
  {
   "cell_type": "code",
   "execution_count": 57,
   "metadata": {},
   "outputs": [
    {
     "data": {
      "image/png": "[encoded data removed]",
      "text/plain": [
       "<matplotlib.figure.Figure at 0x10cf34128>"
      ]
     },
     "metadata": {},
     "output_type": "display_data"
    }
   ],
   "source": [
    "fig = ax.get_figure()\n",
    "fig.savefig(\"icon_plot.PNG\")\n",
    "with sns.axes_style(\"white\"):\n",
    "    plt.imshow(Image.open(\"icon_plot.PNG\"))"
   ]
  },
  {
   "cell_type": "code",
   "execution_count": null,
   "metadata": {
    "collapsed": true
   },
   "outputs": [],
   "source": []
  }
 ],
 "metadata": {
  "kernelspec": {
   "display_name": "Python 3",
   "language": "python",
   "name": "python3"
  },
  "language_info": {
   "codemirror_mode": {
    "name": "ipython",
    "version": 3
   },
   "file_extension": ".py",
   "mimetype": "text/x-python",
   "name": "python",
   "nbconvert_exporter": "python",
   "pygments_lexer": "ipython3",
   "version": "3.6.1"
  }
 },
 "nbformat": 4,
 "nbformat_minor": 2
}
